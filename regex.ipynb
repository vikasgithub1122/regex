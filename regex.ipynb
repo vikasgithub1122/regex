{
  "nbformat": 4,
  "nbformat_minor": 0,
  "metadata": {
    "colab": {
      "provenance": []
    },
    "kernelspec": {
      "name": "python3",
      "display_name": "Python 3"
    },
    "language_info": {
      "name": "python"
    }
  },
  "cells": [
    {
      "cell_type": "markdown",
      "source": [
        "**Meta character in RegEx**"
      ],
      "metadata": {
        "id": "dG-xebn-nRqC"
      }
    },
    {
      "cell_type": "markdown",
      "source": [
        "[] \tA set of characters \t\"[a-m]\"\n",
        "\\ \tSignals a special sequence (can also be used to escape special characters)\\d\"\n",
        ". \tAny character (except newline character) \t\"he..o\"\n",
        "^ \tStarts with \t\"^hello\"\n",
        "$ \tEnds with \t\"planet$\"\n",
        "* \tZero or more occurrences \t\"he.*o\"\n",
        "+ \tOne or more occurrences \t\"he.+o\"\n",
        "? \tZero or one occurrence \t\"he.?o\"\n",
        "| \tEither or \t\"falls|stays\"\n",
        "() \tCapture and group"
      ],
      "metadata": {
        "id": "dWCKL8z6nZem"
      }
    },
    {
      "cell_type": "code",
      "execution_count": null,
      "metadata": {
        "id": "kztTrxlX9-LX"
      },
      "outputs": [],
      "source": [
        "import re\n",
        "a='charlie and the chocolate face'\n",
        "b='ayushijain@gmail.com'\n",
        "c='hello'\n",
        "d='xyz,yz, xyzz,xyyz,xxzzy,zyz,xxy'"
      ]
    },
    {
      "cell_type": "code",
      "source": [
        "match= re.search(r\"\\.\",b)\n",
        "print(match)"
      ],
      "metadata": {
        "colab": {
          "base_uri": "https://localhost:8080/"
        },
        "id": "05LXLmZab0nw",
        "outputId": "f207b963-580f-4f39-8dec-90d63d6fee8d"
      },
      "execution_count": null,
      "outputs": [
        {
          "output_type": "stream",
          "name": "stdout",
          "text": [
            "<re.Match object; span=(16, 17), match='.'>\n"
          ]
        }
      ]
    },
    {
      "cell_type": "code",
      "source": [
        "match=re.search(r\"[@]\",b)\n",
        "print(match)"
      ],
      "metadata": {
        "colab": {
          "base_uri": "https://localhost:8080/"
        },
        "id": "F0TiXKk5b93t",
        "outputId": "895de002-03c8-43bf-8005-210a89424897"
      },
      "execution_count": null,
      "outputs": [
        {
          "output_type": "stream",
          "name": "stdout",
          "text": [
            "<re.Match object; span=(10, 11), match='@'>\n"
          ]
        }
      ]
    },
    {
      "cell_type": "code",
      "source": [
        "match=re.search(r\"[l]\",c)\n",
        "print(match)"
      ],
      "metadata": {
        "colab": {
          "base_uri": "https://localhost:8080/"
        },
        "id": "y31ksoCLcRNX",
        "outputId": "f47160f5-3c94-45e6-c523-c0eb3b378301"
      },
      "execution_count": null,
      "outputs": [
        {
          "output_type": "stream",
          "name": "stdout",
          "text": [
            "<re.Match object; span=(2, 3), match='l'>\n"
          ]
        }
      ]
    },
    {
      "cell_type": "code",
      "source": [
        "match=re.findall(r\"[l]\",c)\n",
        "print(match)"
      ],
      "metadata": {
        "colab": {
          "base_uri": "https://localhost:8080/"
        },
        "id": "sTmL-59ychfS",
        "outputId": "0a7525dc-8d2b-4849-e4ce-cd46ab510cfb"
      },
      "execution_count": null,
      "outputs": [
        {
          "output_type": "stream",
          "name": "stdout",
          "text": [
            "['l', 'l']\n"
          ]
        }
      ]
    },
    {
      "cell_type": "code",
      "source": [
        "match=re.findall(r\"[a]\", b)\n",
        "match"
      ],
      "metadata": {
        "colab": {
          "base_uri": "https://localhost:8080/"
        },
        "id": "2C4ipp7hcirt",
        "outputId": "76a6e978-0d8a-412a-bcab-c1bdf9b5267f"
      },
      "execution_count": null,
      "outputs": [
        {
          "output_type": "execute_result",
          "data": {
            "text/plain": [
              "['a', 'a', 'a']"
            ]
          },
          "metadata": {},
          "execution_count": 13
        }
      ]
    },
    {
      "cell_type": "code",
      "source": [
        "match=re.search(r\"^a\", b)\n",
        "match"
      ],
      "metadata": {
        "colab": {
          "base_uri": "https://localhost:8080/"
        },
        "id": "Mhdi7OIvc6lq",
        "outputId": "0242d1f6-48f7-4a43-f2f8-39cc185b32bf"
      },
      "execution_count": null,
      "outputs": [
        {
          "output_type": "execute_result",
          "data": {
            "text/plain": [
              "<re.Match object; span=(0, 1), match='a'>"
            ]
          },
          "metadata": {},
          "execution_count": 14
        }
      ]
    },
    {
      "cell_type": "code",
      "source": [
        "import re\n",
        "a='charlie chaplin coa and the chocolate factory'\n",
        "b='ayushijain@gmail.com'\n",
        "c='hello'\n",
        "d='xyz,yz, xyzz,xyyz,xxzzy,zyz,xxy'"
      ],
      "metadata": {
        "id": "iL1LEOpodLrn"
      },
      "execution_count": null,
      "outputs": []
    },
    {
      "cell_type": "code",
      "source": [
        "#re.search()\n",
        "#re.findall()"
      ],
      "metadata": {
        "id": "yIZs4vqqdOhO"
      },
      "execution_count": null,
      "outputs": []
    },
    {
      "cell_type": "code",
      "source": [
        "match=re.search(r'^ayu', b)\n",
        "match"
      ],
      "metadata": {
        "colab": {
          "base_uri": "https://localhost:8080/"
        },
        "id": "RHXxWitGdsXz",
        "outputId": "e926b189-2f29-41ef-d28a-71c23cc3415b"
      },
      "execution_count": null,
      "outputs": [
        {
          "output_type": "execute_result",
          "data": {
            "text/plain": [
              "<re.Match object; span=(0, 3), match='ayu'>"
            ]
          },
          "metadata": {},
          "execution_count": 21
        }
      ]
    },
    {
      "cell_type": "code",
      "source": [
        "match=re.search(r'com$', b)\n",
        "match"
      ],
      "metadata": {
        "colab": {
          "base_uri": "https://localhost:8080/"
        },
        "id": "GBuEmTXwd8G-",
        "outputId": "1e32155c-5fc6-4db3-ef11-9df6d99850f1"
      },
      "execution_count": null,
      "outputs": [
        {
          "output_type": "execute_result",
          "data": {
            "text/plain": [
              "<re.Match object; span=(17, 20), match='com'>"
            ]
          },
          "metadata": {},
          "execution_count": 24
        }
      ]
    },
    {
      "cell_type": "code",
      "source": [
        "re.findall(r'c.a', a)"
      ],
      "metadata": {
        "colab": {
          "base_uri": "https://localhost:8080/"
        },
        "id": "UFho1mmLeE6g",
        "outputId": "563de48d-28de-42ae-899d-79b8ab8fd438"
      },
      "execution_count": null,
      "outputs": [
        {
          "output_type": "execute_result",
          "data": {
            "text/plain": [
              "['cha', 'cha', 'coa']"
            ]
          },
          "metadata": {},
          "execution_count": 28
        }
      ]
    },
    {
      "cell_type": "code",
      "source": [
        "re.findall(r'cha|fac', a)"
      ],
      "metadata": {
        "colab": {
          "base_uri": "https://localhost:8080/"
        },
        "id": "eZgUF_0Qe0mM",
        "outputId": "3e0bc188-1687-45f9-c0a9-3c7bb7cb600c"
      },
      "execution_count": null,
      "outputs": [
        {
          "output_type": "execute_result",
          "data": {
            "text/plain": [
              "['cha', 'cha', 'fac']"
            ]
          },
          "metadata": {},
          "execution_count": 31
        }
      ]
    },
    {
      "cell_type": "code",
      "source": [
        "re.findall(r'cha|roy', a)"
      ],
      "metadata": {
        "colab": {
          "base_uri": "https://localhost:8080/"
        },
        "id": "gK4qSoO0fhXM",
        "outputId": "ee1fdd60-7266-48eb-e2b0-ce94d8a1bf84"
      },
      "execution_count": null,
      "outputs": [
        {
          "output_type": "execute_result",
          "data": {
            "text/plain": [
              "['cha', 'cha']"
            ]
          },
          "metadata": {},
          "execution_count": 32
        }
      ]
    },
    {
      "cell_type": "code",
      "source": [
        "re.search(r'rli|roy', a)"
      ],
      "metadata": {
        "colab": {
          "base_uri": "https://localhost:8080/"
        },
        "id": "hLot4vpvf2WY",
        "outputId": "e6ba26c9-28d1-4d0a-d246-265688f20c19"
      },
      "execution_count": null,
      "outputs": [
        {
          "output_type": "execute_result",
          "data": {
            "text/plain": [
              "<re.Match object; span=(3, 6), match='rli'>"
            ]
          },
          "metadata": {},
          "execution_count": 34
        }
      ]
    },
    {
      "cell_type": "code",
      "source": [
        "re.search(r'ali|roy', a)"
      ],
      "metadata": {
        "id": "idHntJbdgNYT"
      },
      "execution_count": null,
      "outputs": []
    },
    {
      "cell_type": "code",
      "source": [
        "a='charlie chchaplin coa and the chocolate factory'"
      ],
      "metadata": {
        "id": "LYNajkpZgYRT"
      },
      "execution_count": null,
      "outputs": []
    },
    {
      "cell_type": "code",
      "source": [
        "re.findall(r'ch?a', a)"
      ],
      "metadata": {
        "colab": {
          "base_uri": "https://localhost:8080/"
        },
        "id": "acLrCumGg0L2",
        "outputId": "e7d6b5d6-7bb1-409d-f3a4-9c431668be0e"
      },
      "execution_count": null,
      "outputs": [
        {
          "output_type": "execute_result",
          "data": {
            "text/plain": [
              "['cha', 'cha']"
            ]
          },
          "metadata": {},
          "execution_count": 47
        }
      ]
    },
    {
      "cell_type": "code",
      "source": [
        "re.findall(r'ch*a',a)"
      ],
      "metadata": {
        "colab": {
          "base_uri": "https://localhost:8080/"
        },
        "id": "_x73FGDQg7i4",
        "outputId": "401e6ef2-39a9-4680-e69f-c50374e4941c"
      },
      "execution_count": null,
      "outputs": [
        {
          "output_type": "execute_result",
          "data": {
            "text/plain": [
              "['cha', 'cha']"
            ]
          },
          "metadata": {},
          "execution_count": 48
        }
      ]
    },
    {
      "cell_type": "code",
      "source": [
        "d='xyz,yz, xyzz,xyyz,xxzzy,zyz,xxxy'"
      ],
      "metadata": {
        "id": "hhVfAJr5hnYi"
      },
      "execution_count": null,
      "outputs": []
    },
    {
      "cell_type": "code",
      "source": [
        "re.findall(r'xy+z',d)"
      ],
      "metadata": {
        "colab": {
          "base_uri": "https://localhost:8080/"
        },
        "id": "O3EYRXL6h0EE",
        "outputId": "5a640d4e-f94c-4eea-e6ea-353ee4135803"
      },
      "execution_count": null,
      "outputs": [
        {
          "output_type": "execute_result",
          "data": {
            "text/plain": [
              "['xyz', 'xyz', 'xyyz']"
            ]
          },
          "metadata": {},
          "execution_count": 53
        }
      ]
    },
    {
      "cell_type": "code",
      "source": [
        "re.findall(r'x{2,4}',d)"
      ],
      "metadata": {
        "colab": {
          "base_uri": "https://localhost:8080/"
        },
        "id": "4DUTRhQTh6Go",
        "outputId": "e6056650-b022-466f-bd03-ba1da0037171"
      },
      "execution_count": null,
      "outputs": [
        {
          "output_type": "execute_result",
          "data": {
            "text/plain": [
              "['xx', 'xxx']"
            ]
          },
          "metadata": {},
          "execution_count": 54
        }
      ]
    },
    {
      "cell_type": "code",
      "source": [
        "re.findall(r'(x|z)yz',d)"
      ],
      "metadata": {
        "colab": {
          "base_uri": "https://localhost:8080/"
        },
        "id": "tIiFo9Lwiden",
        "outputId": "751ce7bd-aa3d-4737-bb58-09834c8e1d0a"
      },
      "execution_count": null,
      "outputs": [
        {
          "output_type": "execute_result",
          "data": {
            "text/plain": [
              "['x', 'x', 'z']"
            ]
          },
          "metadata": {},
          "execution_count": 56
        }
      ]
    },
    {
      "cell_type": "markdown",
      "source": [
        "**Special sequence in regEx**"
      ],
      "metadata": {
        "id": "ejmgVuSGlh6k"
      }
    },
    {
      "cell_type": "code",
      "source": [
        "# \\A\tMatches pattern only at the start of the string\n",
        "# \\Z\tMatches pattern only at the end of the string\n",
        "# \\d\tMatches to any digit. Short for character classes [0-9]\n",
        "# \\D\tMatches to any non-digit. Short for [^0-9]\n",
        "# \\s\tMatches any whitespace character. Short for character class [ \\t\\n\\x0b\\r\\f] or [ \\f\\n\\r\\t\\v]\n",
        "# \\S\tMatches any non-whitespace character. Short for [^ \\t\\n\\x0b\\r\\f] or [^ \\f\\n\\r\\t\\v]\n",
        "# \\w\tMatches any alphanumeric character. Short for character class [a-zA-Z_0-9]\n",
        "# \\W\tMatches any non-alphanumeric character. Short for [^a-zA-Z_0-9]\n",
        "# \\b\tMatches the empty string, but only at the beginning or end of a word. Matches a word boundary where a word character is [a-zA-Z0-9_].\n",
        "# For example, ‘\\bJessa\\b' matches ‘Jessa’, ‘Jessa.’, ‘(Jessa)’, ‘Jessa Emma Kelly’ but not ‘JessaKelly’ or ‘Jessa5’.\n",
        "# \\B\tOpposite of a \\b. Matches the empty string, but only when it is not at the beginning or end of a word"
      ],
      "metadata": {
        "id": "Jx8pH7dwi-RS"
      },
      "execution_count": null,
      "outputs": []
    },
    {
      "cell_type": "code",
      "source": [
        "import re\n",
        "a=\"harry potter pot hater\"\n",
        "print(re.search(r'\\Ahar', a))\n",
        "print(re.findall(r'\\Ahar', a))\n",
        "print(re.findall(r'ter\\Z', a))"
      ],
      "metadata": {
        "colab": {
          "base_uri": "https://localhost:8080/"
        },
        "id": "UYqvOUVAmztq",
        "outputId": "d724aa7d-230a-46bf-c0a3-3e98faff7b8b"
      },
      "execution_count": null,
      "outputs": [
        {
          "output_type": "stream",
          "name": "stdout",
          "text": [
            "<re.Match object; span=(0, 3), match='har'>\n",
            "['har']\n",
            "['ter']\n"
          ]
        }
      ]
    },
    {
      "cell_type": "code",
      "source": [
        "print(re.search(r'\\bhar', a))\n",
        "print(re.search(r'\\bpot', a))\n",
        "print(re.findall(r'\\bpot', a))\n",
        "print(re.findall(r'ter\\b', a))"
      ],
      "metadata": {
        "colab": {
          "base_uri": "https://localhost:8080/"
        },
        "id": "-t0L1zGMDLAJ",
        "outputId": "433000f2-cbcc-43c2-b91a-7dd0ecbe371e"
      },
      "execution_count": null,
      "outputs": [
        {
          "output_type": "stream",
          "name": "stdout",
          "text": [
            "<re.Match object; span=(0, 3), match='har'>\n",
            "<re.Match object; span=(6, 9), match='pot'>\n",
            "['pot', 'pot']\n",
            "['ter', 'ter']\n"
          ]
        }
      ]
    },
    {
      "cell_type": "code",
      "source": [
        "print(re.findall(r'pot\\B', a))\n",
        "print(re.findall(r'\\Bter', a))"
      ],
      "metadata": {
        "colab": {
          "base_uri": "https://localhost:8080/"
        },
        "id": "tAa4EPaUDwwN",
        "outputId": "fd57da6f-857c-4cf5-dd23-70ede3e73a10"
      },
      "execution_count": null,
      "outputs": [
        {
          "output_type": "stream",
          "name": "stdout",
          "text": [
            "['pot']\n",
            "['ter', 'ter']\n"
          ]
        }
      ]
    },
    {
      "cell_type": "code",
      "source": [
        "a=\"harry3 pott4er5 hater@234\""
      ],
      "metadata": {
        "id": "FEy7tuoaPwL1"
      },
      "execution_count": null,
      "outputs": []
    },
    {
      "cell_type": "code",
      "source": [
        "re.findall(r'\\d', a)\n",
        "re.findall(r'\\D', a)"
      ],
      "metadata": {
        "colab": {
          "base_uri": "https://localhost:8080/"
        },
        "id": "4Gp_V_zWQQ66",
        "outputId": "6e13b5a9-1ec9-4cbf-8435-ff24d2609f32"
      },
      "execution_count": null,
      "outputs": [
        {
          "output_type": "execute_result",
          "data": {
            "text/plain": [
              "['h',\n",
              " 'a',\n",
              " 'r',\n",
              " 'r',\n",
              " 'y',\n",
              " ' ',\n",
              " 'p',\n",
              " 'o',\n",
              " 't',\n",
              " 't',\n",
              " 'e',\n",
              " 'r',\n",
              " ' ',\n",
              " 'h',\n",
              " 'a',\n",
              " 't',\n",
              " 'e',\n",
              " 'r',\n",
              " '@']"
            ]
          },
          "metadata": {},
          "execution_count": 14
        }
      ]
    },
    {
      "cell_type": "code",
      "source": [
        "print(re.findall(r'\\s', a))\n",
        "print(re.findall(r'\\S', a))"
      ],
      "metadata": {
        "colab": {
          "base_uri": "https://localhost:8080/"
        },
        "id": "a-zl4TjbQXEg",
        "outputId": "9a9b0345-87ac-4729-958b-c955d84bafcb"
      },
      "execution_count": null,
      "outputs": [
        {
          "output_type": "stream",
          "name": "stdout",
          "text": [
            "[' ', ' ']\n",
            "['h', 'a', 'r', 'r', 'y', '3', 'p', 'o', 't', 't', '4', 'e', 'r', '5', 'h', 'a', 't', 'e', 'r', '@', '2', '3', '4']\n"
          ]
        }
      ]
    },
    {
      "cell_type": "code",
      "source": [
        "print(re.findall(r'\\w', a))\n",
        "print(re.findall(r'\\W', a))"
      ],
      "metadata": {
        "colab": {
          "base_uri": "https://localhost:8080/"
        },
        "id": "9GgKu6llQuX8",
        "outputId": "3e817381-8c0d-4a98-a31c-9f739e33c6ed"
      },
      "execution_count": null,
      "outputs": [
        {
          "output_type": "stream",
          "name": "stdout",
          "text": [
            "['h', 'a', 'r', 'r', 'y', '3', 'p', 'o', 't', 't', '4', 'e', 'r', '5', 'h', 'a', 't', 'e', 'r', '2', '3', '4']\n",
            "[' ', ' ', '@']\n"
          ]
        }
      ]
    },
    {
      "cell_type": "markdown",
      "source": [
        "**RegEx Sets**"
      ],
      "metadata": {
        "id": "7qNc-IsrWY9F"
      }
    },
    {
      "cell_type": "code",
      "source": [
        "# ^ = start, $ = end -- match the start or end of the string\n",
        "# [atx]      Returns a match where one of the specified characters (a, t, or x) are present\n",
        "# [a-h] \t   Returns a match for any lower case character, alphabetically between a and h.\n",
        "# [^atx] \t   Returns a match for any character except a,t, and x.\n",
        "# [0123] \t   Returs a match where any of the specified digits (0,1,2 or 3) are present.\n",
        "# [0-9] \t   Returns a match for any digit between 0 and 9.\n",
        "# [0-7][0-9] Returns a match for any two-digit numbers from 00 and 79.\n",
        "# [a-zA-Z]   Returns a match for any character alphabetically between a and z, A to Z uppercase.\n",
        "# [+] In sets, +, *,.,|,(),$,{} has no special meaning, so[+]means: return a match for any + character in the string"
      ],
      "metadata": {
        "id": "v_hmg4CvRRCz"
      },
      "execution_count": null,
      "outputs": []
    },
    {
      "cell_type": "code",
      "source": [
        "import re\n",
        "a='charlie and the hoclatez factory'\n",
        "b='123Mjohn#$@^6773WHK +4.9r'"
      ],
      "metadata": {
        "id": "x9kePZYvWa6P"
      },
      "execution_count": null,
      "outputs": []
    },
    {
      "cell_type": "code",
      "source": [
        "print(re.findall(r'[atx]', a))\n",
        "print(re.findall(r'[^atx]', a))\n",
        "print(re.findall(r'[0123456]', b))\n",
        "print(re.findall(r'[0-9]', b))\n",
        "print(re.findall(r'[0-7][0-9]',b))\n",
        "print(re.findall(r'[a-zA-Z]', b))"
      ],
      "metadata": {
        "colab": {
          "base_uri": "https://localhost:8080/"
        },
        "id": "8LyKZa8rW-qN",
        "outputId": "a155cfd0-9ed7-4f68-d8fc-46c9334f9715"
      },
      "execution_count": null,
      "outputs": [
        {
          "output_type": "stream",
          "name": "stdout",
          "text": [
            "['a', 'a', 't', 'a', 't', 'a', 't']\n",
            "['c', 'h', 'r', 'l', 'i', 'e', ' ', 'n', 'd', ' ', 'h', 'e', ' ', 'h', 'o', 'c', 'l', 'e', 'z', ' ', 'f', 'c', 'o', 'r', 'y']\n",
            "['1', '2', '3', '6', '3', '4']\n",
            "['1', '2', '3', '6', '7', '7', '3', '4', '9']\n",
            "['12', '67', '73']\n",
            "['M', 'j', 'o', 'h', 'n', 'W', 'H', 'K', 'r']\n"
          ]
        }
      ]
    },
    {
      "cell_type": "code",
      "source": [
        "# [+] In sets, +, *,.,|,(),$,{} has no special meaning, so[+]means: return a match for any + character in the string\n",
        "print(re.findall(r'[$]', b))\n",
        "print(re.findall(r'[+]', b))"
      ],
      "metadata": {
        "colab": {
          "base_uri": "https://localhost:8080/"
        },
        "id": "llo1qGYsXUt3",
        "outputId": "1c4a4f40-2e7f-402f-d41e-14cb64cd6c95"
      },
      "execution_count": null,
      "outputs": [
        {
          "output_type": "stream",
          "name": "stdout",
          "text": [
            "['$']\n",
            "['+']\n"
          ]
        }
      ]
    },
    {
      "cell_type": "markdown",
      "source": [
        "**Excercise**"
      ],
      "metadata": {
        "id": "h07vCia_bm88"
      }
    },
    {
      "cell_type": "code",
      "source": [
        "text=\"\"\"\n",
        "Elon musk's phone number is 9876543210\", call him if you have any questions on dodgecoin.\n",
        "Tesla revenue and testla CFO number (999)-333-7777 and 993-456-7890 .\n",
        "\"\"\""
      ],
      "metadata": {
        "id": "5-Iai9oLbYpD"
      },
      "execution_count": null,
      "outputs": []
    },
    {
      "cell_type": "code",
      "source": [
        "import re\n",
        "pattern=r'\\d{10}'\n",
        "print(re.findall(pattern, text))"
      ],
      "metadata": {
        "colab": {
          "base_uri": "https://localhost:8080/"
        },
        "id": "bINaqT7QcMzb",
        "outputId": "46e7aefc-f86c-4e20-d8fb-bbf34d63f1c9"
      },
      "execution_count": null,
      "outputs": [
        {
          "output_type": "stream",
          "name": "stdout",
          "text": [
            "['9876543210']\n"
          ]
        }
      ]
    },
    {
      "cell_type": "code",
      "source": [
        "pattern = r'\\(\\d{3}\\)-\\d{3}-\\d{4}'\n",
        "print(re.findall(pattern, text))"
      ],
      "metadata": {
        "colab": {
          "base_uri": "https://localhost:8080/"
        },
        "id": "I-xtLXlGcYsp",
        "outputId": "f8d612e4-b1a7-4790-c241-a01d28f1eb66"
      },
      "execution_count": null,
      "outputs": [
        {
          "output_type": "stream",
          "name": "stdout",
          "text": [
            "['(999)-333-7777']\n"
          ]
        }
      ]
    },
    {
      "cell_type": "code",
      "source": [
        "pattern = r'\\d{3}-\\d{3}-\\d{4}'\n",
        "print(re.findall(pattern, text))"
      ],
      "metadata": {
        "colab": {
          "base_uri": "https://localhost:8080/"
        },
        "id": "ZbBtb_ROe4O4",
        "outputId": "58ac6860-be38-4ea9-b18f-aab9fe0bf220"
      },
      "execution_count": null,
      "outputs": [
        {
          "output_type": "stream",
          "name": "stdout",
          "text": [
            "['993-456-7890']\n"
          ]
        }
      ]
    },
    {
      "cell_type": "code",
      "source": [
        "import re\n",
        "\n",
        "text = \"\"\"\n",
        "Elon musk's phone number is 9876543210\", call him if you have any questions on dodgecoin.\n",
        "Tesla revenue and testla CFO number (999)-333-7777 and 993-456-7890 .\n",
        "\"\"\"\n",
        "pattern = r'\\(\\d{3}\\)-\\d{3}-\\d{4}|\\d{10}| \\d{3}-\\d{3}-\\d{4}'\n",
        "match=re.findall(pattern, text)\n",
        "for i in match:\n",
        "  print(i)"
      ],
      "metadata": {
        "colab": {
          "base_uri": "https://localhost:8080/"
        },
        "id": "FoaKwV93d6gZ",
        "outputId": "b4aab25c-8f6e-43c3-89aa-b96243288977"
      },
      "execution_count": null,
      "outputs": [
        {
          "output_type": "stream",
          "name": "stdout",
          "text": [
            "9876543210\n",
            "(999)-333-7777\n",
            " 993-456-7890\n"
          ]
        }
      ]
    },
    {
      "cell_type": "code",
      "source": [],
      "metadata": {
        "id": "rX4xeTn9hEjb"
      },
      "execution_count": null,
      "outputs": []
    }
  ]
}